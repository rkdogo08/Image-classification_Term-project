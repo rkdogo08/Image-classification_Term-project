{
  "nbformat": 4,
  "nbformat_minor": 0,
  "metadata": {
    "colab": {
      "name": "Term_LDA_PCA.ipynb",
      "provenance": [],
      "collapsed_sections": []
    },
    "kernelspec": {
      "name": "python3",
      "display_name": "Python 3"
    },
    "accelerator": "GPU"
  },
  "cells": [
    {
      "cell_type": "code",
      "metadata": {
        "colab_type": "code",
        "outputId": "cdbb0524-9a28-4eb8-af33-476e75d8da18",
        "id": "VNYTB8ywbQws",
        "colab": {
          "base_uri": "https://localhost:8080/",
          "height": 1000
        }
      },
      "source": [
        "!pip install opencv-python==3.4.2.16\n",
        "!pip install opencv-contrib-python==3.4.2.16\n",
        "\n",
        "!pip install kmc2\n",
        "\n",
        "!ls -lha kaggle.json\n",
        "!pip uninstall -y kaggle\n",
        "!pip install --upgrade pip\n",
        "!pip install kaggle==1.5.6\n",
        "\n",
        "# 캐글연동을 위한 토큰 입력\n",
        "! mkdir -p ~/.kaggle\n",
        "! cp kaggle.json ~/.kaggle/\n",
        "! chmod 600 ~/.kaggle/kaggle.json\n",
        "\n",
        "# 버전이 1.5.6 이 아니면, 진행할 수 없다\n",
        "! kaggle -v"
      ],
      "execution_count": 1,
      "outputs": []
    },
    {
      "cell_type": "code",
      "metadata": {
        "id": "R0jD0KbQyIj0",
        "colab_type": "code",
        "outputId": "dc370ad0-2291-4432-9eb5-941848ddc8de",
        "colab": {
          "base_uri": "https://localhost:8080/",
          "height": 1000
        }
      },
      "source": [
        "! kaggle competitions download -c 2019-ml-finalproject\n",
        "! unzip 2019-ml-finalproject.zip"
      ],
      "execution_count": 2,
      "outputs": []
      ]
    },
    {
      "cell_type": "code",
      "metadata": {
        "id": "JadR869D2K7L",
        "colab_type": "code",
        "colab": {}
      },
      "source": [
        "from sklearn.neighbors import KNeighborsClassifier\n",
        "from sklearn.model_selection import train_test_split\n",
        "from sklearn.cluster import KMeans\n",
        "from sklearn.discriminant_analysis import LinearDiscriminantAnalysis\n",
        "from sklearn.decomposition import PCA\n",
        "from sklearn.cluster import MiniBatchKMeans\n",
        "from sklearn.svm import SVC\n",
        "from scipy.cluster.vq import vq\n",
        "from sklearn.model_selection import GridSearchCV\n",
        "from sklearn.metrics import accuracy_score\n",
        "from sklearn.metrics import classification_report\n",
        "from sklearn.metrics import confusion_matrix\n",
        "from sklearn.preprocessing import StandardScaler\n",
        "import pandas as pd\n",
        "import numpy as np\n",
        "import cv2 \n",
        "import os\n",
        "import pickle\n",
        "\n",
        "import kmc2\n",
        "import cupy as xp\n",
        "from svm import SVM\n",
        "from tqdm import tqdm\n",
        "\n",
        "from PIL import Image\n",
        "\n",
        "import matplotlib.pyplot as plt\n",
        "#from sklearn.svm import SVC"
      ],
      "execution_count": 0,
      "outputs": []
    },
    {
      "cell_type": "code",
      "metadata": {
        "id": "lQTavDA9jnfc",
        "colab_type": "code",
        "colab": {}
      },
      "source": [
        "# 이미지 리사이즈\n",
        "def resize(dir,step):\n",
        "  img= cv2.imread(dir)\n",
        "  img_gray = cv2.cvtColor(img, cv2.COLOR_BGR2GRAY)\n",
        "  img_gray=cv2.resize(img_gray, (step,step))\n",
        "  return img_gray \n",
        "\n",
        "def load_train_data(img_size,step_size):\n",
        "  train_root_path=\"./train\"\n",
        "  len(os.listdir(train_root_path))\n",
        "  train_data=[]\n",
        "  label=[]\n",
        "  train_des=[]\n",
        "  cn=1\n",
        "  for lis in tqdm(class_name):\n",
        "  #for lis in tqdm(class_name[:25]):\n",
        "    img_list=os.listdir(train_root_path+'/'+lis)\n",
        "    for i in img_list:\n",
        "      gray=resize(train_root_path+'/'+lis+'/'+i,img_size)\n",
        "      train_des.append(dense_sift(gray,step_size))\n",
        "      #train_data.append(gray)\n",
        "      label.append(cn)\n",
        "    cn+=1\n",
        "  train_des=np.array(train_des)\n",
        "  return train_des,label\n",
        "\n",
        "def load_test_data(img_size,step_size):\n",
        "  test_root_path=\"./testAll_v2\"\n",
        "  len(os.listdir(test_root_path))\n",
        "  test_data=[]\n",
        "  test_des=[]\n",
        "  test_name=[]\n",
        "  lis=os.listdir(test_root_path)\n",
        "  lis.sort()\n",
        "  for lis in tqdm(lis):\n",
        "      gray=resize(test_root_path+'/'+lis,img_size)\n",
        "      #test_data.append(gray)\n",
        "      test_des.append(dense_sift(gray,step_size))\n",
        "      test_name.append(lis)\n",
        "\n",
        "  test_des=np.array(test_des)\n",
        "  return test_des,test_name\n",
        "    \n",
        "# SIFT weak feature extraction\n",
        "def weak_sift(gray):\n",
        "  sift=cv2.xfeatures2d_SIFT.create()\n",
        "  kp,des=sift.detectAndCompute(gray,None)\n",
        "\n",
        "  return des\n",
        "\n",
        "#SIFT dense feature extraction\n",
        "def dense_sift(gray,step):\n",
        "  sift=cv2.xfeatures2d_SIFT.create()\n",
        "  keypoints=[]\n",
        "  w,h=gray.shape\n",
        "  keypoints=[cv2.KeyPoint(i,j,step) for i in range(0,h,step) for j in range(0,w,step)]\n",
        "  kp,des=sift.compute(gray,keypoints)\n",
        "  \n",
        "  return des \n",
        "\n",
        "# make code word and histogram\n",
        "def histogram(data_set,size):\n",
        "  train_his=[]\n",
        "  for i in data_set:\n",
        "    den=dense_sift(i,8)\n",
        "    predict=Kmeans.predict(den)\n",
        "    count=np.bincount(predict,minlength=size)\n",
        "    train_his.append(count)\n",
        "  return train_his\n",
        "\n",
        "def histogram_vq(data_des):\n",
        "  his=[]\n",
        "  for i in tqdm(data_des):\n",
        "    code_word=vq(i,codebook)[0]\n",
        "    count=np.bincount(code_word,minlength=400)\n",
        "    his.append(count)\n",
        "  return his  \n",
        "\n",
        "def SVM_GPU(X_train,X_val,y_train,C):\n",
        "  X_train = xp.asarray(X_train)\n",
        "  X_val = xp.asarray(X_val)\n",
        "  y_train = xp.asarray(y_train)\n",
        "\n",
        "  #svm = SVM(kernel='linear', kernel_params={'sigma': 15}, classification_strategy='ovr', x=X_train, y=y_train)\n",
        "  svm = SVM(kernel='rbf',class_weight='balanced', kernel_params={'C':1},x=X_train, y=y_train)\n",
        "\n",
        "  svm.fit(X_train, y_train)\n",
        "\n",
        "  X_val = xp.asarray(X_val)\n",
        "  val_fit=svm.predict(X_val)\n",
        "\n",
        "  test_h = xp.asarray(test_h)\n",
        "  result=svm.prdict(test_h)\n",
        "  result=xp.asnumpy(result)\n",
        "\n",
        "  return result,val_fit\n",
        "\n",
        "def SVM_Grid(X_train,X_val,y_train,test_h,c,g):\n",
        "\n",
        "  svm = SVC(kernel='rbf',class_weight='balanced')\n",
        "  param_grid = {'C':c,'gamma':g}\n",
        "  grid = GridSearchCV(svm, param_grid, cv=5)\n",
        "\n",
        "  grid.fit(X_train,y_train)\n",
        "  print(grid.best_params_)\n",
        "  val_fit=grid.predict(X_val)\n",
        "  result=grid.predict(test_h)\n",
        "  return result,val_fit\n",
        "\n",
        "def SVM_(X_train,y_train,X_test,c,g):\n",
        "  svm = SVC(kernel='rbf',C=c,gamma=g)\n",
        "  svm.fit(X_train,y_train)\n",
        "  result=svm.predict(X_test)\n",
        "  return result\n",
        "\n",
        "\n",
        "def make_result_csv(result,test_name):\n",
        "  result_=np.append(['Category'],result)\n",
        "  result_id=np.append(['Id'],test_name)\n",
        "  df = pd.DataFrame(result_,result_id,columns=[' '])\n",
        "  df.to_csv('results_.csv',index=True, header=False)\n",
        "  print(df)\n",
        "\n",
        "def save_array(file_name,arr):\n",
        "  with open(file_name,'wb') as f:\n",
        "    pickle.dump(arr,f)\n",
        "def load_array(file_name):\n",
        "  with open(file_name,'rb') as f:\n",
        "    arr=pickle.load(f)\n",
        "  return arr"
      ],
      "execution_count": 0,
      "outputs": []
    },
    {
      "cell_type": "code",
      "metadata": {
        "id": "c1wW-lZj-ABF",
        "colab_type": "code",
        "outputId": "13cfbb8d-5a43-4f47-bd9e-13590faeead0",
        "colab": {
          "base_uri": "https://localhost:8080/",
          "height": 402
        }
      },
      "source": [
        "df_data=pd.read_csv('/content/Label2Names.csv',header=None)\n",
        "class_name=df_data[1].tolist()\n",
        "class_name.append('BACKGROUND_Google')\n",
        "df_data"
      ],
      "execution_count": 5,
      "outputs": [
        {
          "output_type": "execute_result",
          "data": {
            "text/html": [
              "<div>\n",
              "<style scoped>\n",
              "    .dataframe tbody tr th:only-of-type {\n",
              "        vertical-align: middle;\n",
              "    }\n",
              "\n",
              "    .dataframe tbody tr th {\n",
              "        vertical-align: top;\n",
              "    }\n",
              "\n",
              "    .dataframe thead th {\n",
              "        text-align: right;\n",
              "    }\n",
              "</style>\n",
              "<table border=\"1\" class=\"dataframe\">\n",
              "  <thead>\n",
              "    <tr style=\"text-align: right;\">\n",
              "      <th></th>\n",
              "      <th>0</th>\n",
              "      <th>1</th>\n",
              "    </tr>\n",
              "  </thead>\n",
              "  <tbody>\n",
              "    <tr>\n",
              "      <th>0</th>\n",
              "      <td>1</td>\n",
              "      <td>Faces</td>\n",
              "    </tr>\n",
              "    <tr>\n",
              "      <th>1</th>\n",
              "      <td>2</td>\n",
              "      <td>Faces_easy</td>\n",
              "    </tr>\n",
              "    <tr>\n",
              "      <th>2</th>\n",
              "      <td>3</td>\n",
              "      <td>Leopards</td>\n",
              "    </tr>\n",
              "    <tr>\n",
              "      <th>3</th>\n",
              "      <td>4</td>\n",
              "      <td>Motorbikes</td>\n",
              "    </tr>\n",
              "    <tr>\n",
              "      <th>4</th>\n",
              "      <td>5</td>\n",
              "      <td>accordion</td>\n",
              "    </tr>\n",
              "    <tr>\n",
              "      <th>...</th>\n",
              "      <td>...</td>\n",
              "      <td>...</td>\n",
              "    </tr>\n",
              "    <tr>\n",
              "      <th>96</th>\n",
              "      <td>97</td>\n",
              "      <td>wheelchair</td>\n",
              "    </tr>\n",
              "    <tr>\n",
              "      <th>97</th>\n",
              "      <td>98</td>\n",
              "      <td>wild_cat</td>\n",
              "    </tr>\n",
              "    <tr>\n",
              "      <th>98</th>\n",
              "      <td>99</td>\n",
              "      <td>windsor_chair</td>\n",
              "    </tr>\n",
              "    <tr>\n",
              "      <th>99</th>\n",
              "      <td>100</td>\n",
              "      <td>wrench</td>\n",
              "    </tr>\n",
              "    <tr>\n",
              "      <th>100</th>\n",
              "      <td>101</td>\n",
              "      <td>yin_yang</td>\n",
              "    </tr>\n",
              "  </tbody>\n",
              "</table>\n",
              "<p>101 rows × 2 columns</p>\n",
              "</div>"
            ],
            "text/plain": [
              "       0              1\n",
              "0      1          Faces\n",
              "1      2     Faces_easy\n",
              "2      3       Leopards\n",
              "3      4     Motorbikes\n",
              "4      5      accordion\n",
              "..   ...            ...\n",
              "96    97     wheelchair\n",
              "97    98       wild_cat\n",
              "98    99  windsor_chair\n",
              "99   100         wrench\n",
              "100  101       yin_yang\n",
              "\n",
              "[101 rows x 2 columns]"
            ]
          },
          "metadata": {
            "tags": []
          },
          "execution_count": 5
        }
      ]
    },
    {
      "cell_type": "code",
      "metadata": {
        "id": "cvvtSWyeDg4u",
        "colab_type": "code",
        "outputId": "fd0d0f35-c71c-4eb6-fc28-af889251af56",
        "colab": {
          "base_uri": "https://localhost:8080/",
          "height": 34
        }
      },
      "source": [
        "train_des,label=load_train_data(256,8)\n",
        "test_des,test_name=load_test_data(256,8)"
      ],
      "execution_count": 8,
      "outputs": [
        {
          "output_type": "stream",
          "text": [
            "100%|██████████| 102/102 [04:34<00:00,  2.72s/it]\n"
          ],
          "name": "stderr"
        }
      ]
    },
    {
      "cell_type": "code",
      "metadata": {
        "id": "hkekZK24f_-I",
        "colab_type": "code",
        "outputId": "2b41bade-75ad-4a39-e260-b34082610b27",
        "colab": {
          "base_uri": "https://localhost:8080/",
          "height": 34
        }
      },
      "source": [
        "train_des.shape"
      ],
      "execution_count": 9,
      "outputs": [
        {
          "output_type": "execute_result",
          "data": {
            "text/plain": [
              "(3060, 1024, 128)"
            ]
          },
          "metadata": {
            "tags": []
          },
          "execution_count": 9
        }
      ]
    },
    {
      "cell_type": "code",
      "metadata": {
        "id": "jhM_UiO8Fl4g",
        "colab_type": "code",
        "outputId": "1d42a4f3-9158-4caa-b03c-9d2d7cdb25da",
        "colab": {
          "base_uri": "https://localhost:8080/",
          "height": 34
        }
      },
      "source": [
        "test_des.shape"
      ],
      "execution_count": 10,
      "outputs": [
        {
          "output_type": "execute_result",
          "data": {
            "text/plain": [
              "(1692, 1024, 128)"
            ]
          },
          "metadata": {
            "tags": []
          },
          "execution_count": 10
        }
      ]
    },
    {
      "cell_type": "code",
      "metadata": {
        "colab_type": "code",
        "id": "_7h_N_m5lsjU",
        "colab": {}
      },
      "source": [
        "train_des=np.array(train_des).reshape(-1,128)\n",
        "test_des=(np.array(test_des)).reshape(-1,128)"
      ],
      "execution_count": 0,
      "outputs": []
    },
    {
      "cell_type": "code",
      "metadata": {
        "id": "GWm5aGjjp0Vy",
        "colab_type": "code",
        "outputId": "568829c2-acf6-43f7-f5f7-378a7dc4723a",
        "colab": {
          "base_uri": "https://localhost:8080/",
          "height": 34
        }
      },
      "source": [
        "train_des.shape"
      ],
      "execution_count": 12,
      "outputs": [
        {
          "output_type": "execute_result",
          "data": {
            "text/plain": [
              "(3133440, 128)"
            ]
          },
          "metadata": {
            "tags": []
          },
          "execution_count": 12
        }
      ]
    },
    {
      "cell_type": "code",
      "metadata": {
        "id": "_BBd6S_014Ul",
        "colab_type": "code",
        "outputId": "13fe7417-f215-4907-b9c0-8494d7138c31",
        "colab": {
          "base_uri": "https://localhost:8080/",
          "height": 54
        }
      },
      "source": [
        "'''\n",
        "label_lda=[]\n",
        "for i in range(1,103):\n",
        "  tmp=[i]*30*1024\n",
        "  label_lda.append(tmp)\n",
        "label_lda=np.array(label_lda).reshape(-1)\n",
        "label_lda.shape\n",
        "lda=LinearDiscriminantAnalysis()\n",
        "train_des=lda.fit_transform(train_des,label_lda)\n",
        "test_des=lda.transform(test_des)\n",
        "'''"
      ],
      "execution_count": 13,
      "outputs": [
        {
          "output_type": "execute_result",
          "data": {
            "text/plain": [
              "'\\nlabel_lda=[]\\nfor i in range(1,103):\\n  tmp=[i]*30*1024\\n  label_lda.append(tmp)\\nlabel_lda=np.array(label_lda).reshape(-1)\\nlabel_lda.shape\\nlda=LinearDiscriminantAnalysis()\\ntrain_des=lda.fit_transform(train_des,label_lda)\\ntest_des=lda.transform(test_des)\\n'"
            ]
          },
          "metadata": {
            "tags": []
          },
          "execution_count": 13
        }
      ]
    },
    {
      "cell_type": "code",
      "metadata": {
        "id": "eEbVASP1fx1B",
        "colab_type": "code",
        "colab": {}
      },
      "source": [
        "pca=PCA(64)\n",
        "train_des=pca.fit_transform(train_des)\n",
        "test_des=pca.transform(test_des)"
      ],
      "execution_count": 0,
      "outputs": []
    },
    {
      "cell_type": "code",
      "metadata": {
        "id": "wxVyc8MSnvJM",
        "colab_type": "code",
        "colab": {
          "base_uri": "https://localhost:8080/",
          "height": 34
        },
        "outputId": "df11ec99-9aab-419e-d177-a759efff7a5f"
      },
      "source": [
        "pca.n_components_"
      ],
      "execution_count": 20,
      "outputs": [
        {
          "output_type": "execute_result",
          "data": {
            "text/plain": [
              "64"
            ]
          },
          "metadata": {
            "tags": []
          },
          "execution_count": 20
        }
      ]
    },
    {
      "cell_type": "code",
      "metadata": {
        "id": "9nB6EyIDlWu-",
        "colab_type": "code",
        "colab": {}
      },
      "source": [
        "des_vec=train_des"
      ],
      "execution_count": 0,
      "outputs": []
    },
    {
      "cell_type": "code",
      "metadata": {
        "id": "XVERpEyzt3F7",
        "colab_type": "code",
        "colab": {}
      },
      "source": [
        "train_des=train_des.reshape(3060,1024,-1)\n",
        "test_des=test_des.reshape(1692,1024,-1)"
      ],
      "execution_count": 0,
      "outputs": []
    },
    {
      "cell_type": "code",
      "metadata": {
        "id": "w6bd0dCXwHj8",
        "colab_type": "code",
        "outputId": "b53e389f-0ec8-4c1c-f2d7-5996e09ccf51",
        "colab": {
          "base_uri": "https://localhost:8080/",
          "height": 34
        }
      },
      "source": [
        "des_vec.shape"
      ],
      "execution_count": 23,
      "outputs": [
        {
          "output_type": "execute_result",
          "data": {
            "text/plain": [
              "(3133440, 64)"
            ]
          },
          "metadata": {
            "tags": []
          },
          "execution_count": 23
        }
      ]
    },
    {
      "cell_type": "code",
      "metadata": {
        "id": "g0IM4yICJJOX",
        "colab_type": "code",
        "outputId": "e7d6682a-8f50-40b7-b565-ea03d54ea17f",
        "colab": {
          "base_uri": "https://localhost:8080/",
          "height": 90
        }
      },
      "source": [
        "codebooksize=400\n",
        "seeding = kmc2.kmc2(des_vec, codebooksize) \n",
        "Kmeans = MiniBatchKMeans(codebooksize, init=seeding,init_size=400).fit(des_vec)\n",
        "codebook = Kmeans.cluster_centers_\n",
        "codebook.shape"
      ],
      "execution_count": 24,
      "outputs": [
        {
          "output_type": "stream",
          "text": [
            "/usr/local/lib/python3.6/dist-packages/ipykernel_launcher.py:3: RuntimeWarning: Explicit initial center position passed: performing only one init in MiniBatchKMeans instead of n_init=3\n",
            "  This is separate from the ipykernel package so we can avoid doing imports until\n"
          ],
          "name": "stderr"
        },
        {
          "output_type": "execute_result",
          "data": {
            "text/plain": [
              "(400, 64)"
            ]
          },
          "metadata": {
            "tags": []
          },
          "execution_count": 24
        }
      ]
    },
    {
      "cell_type": "code",
      "metadata": {
        "id": "Lu9eopQ7cW3C",
        "colab_type": "code",
        "outputId": "a213fdd9-65bd-4368-bd99-7cdd711929e2",
        "colab": {
          "base_uri": "https://localhost:8080/",
          "height": 52
        }
      },
      "source": [
        "h_list=histogram_vq(train_des)\n",
        "h_list=np.array(h_list)\n",
        "print(h_list.shape)"
      ],
      "execution_count": 25,
      "outputs": [
        {
          "output_type": "stream",
          "text": [
            "100%|██████████| 3060/3060 [00:09<00:00, 338.18it/s]\n"
          ],
          "name": "stderr"
        },
        {
          "output_type": "stream",
          "text": [
            "(3060, 400)\n"
          ],
          "name": "stdout"
        }
      ]
    },
    {
      "cell_type": "code",
      "metadata": {
        "id": "GqdeHGooOK6s",
        "colab_type": "code",
        "outputId": "09f879b1-870e-4c0f-8c97-49680acc885e",
        "colab": {
          "base_uri": "https://localhost:8080/",
          "height": 282
        }
      },
      "source": [
        "plt.bar(range(400),h_list[0,:] , color='g')"
      ],
      "execution_count": 26,
      "outputs": [
        {
          "output_type": "execute_result",
          "data": {
            "text/plain": [
              "<BarContainer object of 400 artists>"
            ]
          },
          "metadata": {
            "tags": []
          },
          "execution_count": 26
        },
        {
          "output_type": "display_data",
          "data": {
            "image/png": "iVBORw0KGgoAAAANSUhEUgAAAXcAAAD4CAYAAAAXUaZHAAAABHNCSVQICAgIfAhkiAAAAAlwSFlz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\ntVc7e1+TFlQAAAAASUVORK5CYII=\n",
            "text/plain": [
              "<Figure size 432x288 with 1 Axes>"
            ]
          },
          "metadata": {
            "tags": []
          }
        }
      ]
    },
    {
      "cell_type": "code",
      "metadata": {
        "id": "PeoQ00MZHVuG",
        "colab_type": "code",
        "outputId": "d0db167e-baf6-4cb1-fe28-05e6f443bf98",
        "colab": {
          "base_uri": "https://localhost:8080/",
          "height": 34
        }
      },
      "source": [
        "test_h=histogram_vq(test_des)\n",
        "test_h=np.array(test_h)"
      ],
      "execution_count": 27,
      "outputs": [
        {
          "output_type": "stream",
          "text": [
            "100%|██████████| 1692/1692 [00:04<00:00, 339.90it/s]\n"
          ],
          "name": "stderr"
        }
      ]
    },
    {
      "cell_type": "code",
      "metadata": {
        "id": "eQ-ZAHMgyPU6",
        "colab_type": "code",
        "colab": {}
      },
      "source": [
        "scaler=StandardScaler()\n",
        "h_list_=scaler.fit_transform(np.array(h_list,int))\n",
        "test_h_=scaler.transform(np.array(test_h,int))"
      ],
      "execution_count": 0,
      "outputs": []
    },
    {
      "cell_type": "code",
      "metadata": {
        "id": "lOlyo88dGy8H",
        "colab_type": "code",
        "colab": {}
      },
      "source": [
        "result=SVM_Grid(h_list_,label,test_h_,[4,10],[0.001,0.0001])\n",
        "#result=SVM_(h_list_,label,test_h_,4,0.001)\n",
        "#result=SVM_GPU(h_list_,label,test_h_,[4,10],[0.001,0.0001])"
      ],
      "execution_count": 0,
      "outputs": []
    },
    {
      "cell_type": "code",
      "metadata": {
        "id": "87_x9Y0ET7wX",
        "colab_type": "code",
        "outputId": "aa717af0-c9b1-41a2-a9fa-45f1e5d25986",
        "colab": {
          "base_uri": "https://localhost:8080/",
          "height": 263
        }
      },
      "source": [
        "make_result_csv(result,test_name)"
      ],
      "execution_count": 44,
      "outputs": [
        {
          "output_type": "stream",
          "text": [
            "                        \n",
            "Id              Category\n",
            "image_0001.jpg        38\n",
            "image_0002.jpg        89\n",
            "image_0003.jpg        92\n",
            "image_0004.jpg        51\n",
            "...                  ...\n",
            "image_1688.jpg        11\n",
            "image_1689.jpg        61\n",
            "image_1690.jpg        48\n",
            "image_1691.jpg        38\n",
            "image_1692.jpg        82\n",
            "\n",
            "[1693 rows x 1 columns]\n"
          ],
          "name": "stdout"
        }
      ]
    },
    {
      "cell_type": "code",
      "metadata": {
        "id": "FjLgBPEUA6j7",
        "colab_type": "code",
        "outputId": "bdd1c500-1607-4832-b5c5-fd3d94f21aa2",
        "colab": {
          "base_uri": "https://localhost:8080/",
          "height": 52
        }
      },
      "source": [
        "! kaggle competitions submit -c 2019-ml-finalproject -f results_.csv -m \"sanhee-1214_pca_scal\""
      ],
      "execution_count": 45,
      "outputs": [
        {
          "output_type": "stream",
          "text": [
            "100% 29.6k/29.6k [00:03<00:00, 9.20kB/s]\n",
            "Successfully submitted to 2019.Fall.PatternRecognition "
          ],
          "name": "stdout"
        }
      ]
    }
  ]
}
