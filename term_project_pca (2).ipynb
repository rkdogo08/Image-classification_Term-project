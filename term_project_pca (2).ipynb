{
  "nbformat": 4,
  "nbformat_minor": 0,
  "metadata": {
    "colab": {
      "name": "term_project_pca.ipynb",
      "provenance": [],
      "collapsed_sections": [],
      "machine_shape": "hm"
    },
    "kernelspec": {
      "name": "python3",
      "display_name": "Python 3"
    },
    "accelerator": "GPU"
  },
  "cells": [
    {
      "cell_type": "code",
      "metadata": {
        "colab_type": "code",
        "id": "VNYTB8ywbQws",
        "colab": {}
      },
      "source": [
        "#opencv version 3.4.2.16\n",
        "!pip install opencv-python==3.4.2.16\n",
        "!pip install opencv-contrib-python==3.4.2.16\n",
        "\n",
        "!pip install kmc2\n",
        "\n",
        "!ls -lha kaggle.json\n",
        "!pip uninstall -y kaggle\n",
        "!pip install --upgrade pip\n",
        "!pip install kaggle==1.5.6\n",
        "\n",
        "# 캐글연동을 위한 토큰 입력\n",
        "! mkdir -p ~/.kaggle\n",
        "! cp kaggle.json ~/.kaggle/\n",
        "! chmod 600 ~/.kaggle/kaggle.json\n",
        "\n",
        "# 버전이 1.5.6 이 아니면, 진행할 수 없다\n",
        "! kaggle -v"
      ],
      "execution_count": 0,
      "outputs": []
    },
    {
      "cell_type": "code",
      "metadata": {
        "id": "R0jD0KbQyIj0",
        "colab_type": "code",
        "colab": {}
      },
      "source": [
        "! kaggle competitions download -c 2019-ml-finalproject\n",
        "! unzip 2019-ml-finalproject.zip"
      ],
      "execution_count": 0,
      "outputs": []
    },
    {
      "cell_type": "code",
      "metadata": {
        "id": "JadR869D2K7L",
        "colab_type": "code",
        "colab": {}
      },
      "source": [
        "from sklearn.neighbors import KNeighborsClassifier\n",
        "from sklearn.cluster import KMeans\n",
        "from sklearn.cluster import MiniBatchKMeans\n",
        "from sklearn.svm import SVC\n",
        "from scipy.cluster.vq import vq\n",
        "from sklearn.model_selection import GridSearchCV\n",
        "from sklearn.metrics import accuracy_score\n",
        "from sklearn.metrics import classification_report\n",
        "from sklearn.metrics import confusion_matrix\n",
        "from sklearn.ensemble import RandomForestClassifier\n",
        "from sklearn.tree import DecisionTreeClassifier\n",
        "from sklearn.ensemble import BaggingClassifier\n",
        "from sklearn.preprocessing import scale\n",
        "import pandas as pd\n",
        "import numpy as np\n",
        "import math\n",
        "import random\n",
        "import cv2 \n",
        "import os\n",
        "import pickle\n",
        "\n",
        "import kmc2\n",
        "import cupy as xp\n",
        "from svm import SVM\n",
        "from tqdm import tqdm\n",
        "\n",
        "from PIL import Image\n",
        "\n",
        "import matplotlib.pyplot as plt\n",
        "#from sklearn.svm import SVC"
      ],
      "execution_count": 0,
      "outputs": []
    },
    {
      "cell_type": "code",
      "metadata": {
        "id": "lQTavDA9jnfc",
        "colab_type": "code",
        "colab": {}
      },
      "source": [
        "# 이미지 리사이즈\n",
        "def resize(dir,step):\n",
        "  img= cv2.imread(dir)\n",
        "  img_gray = cv2.cvtColor(img, cv2.COLOR_BGR2GRAY)\n",
        "  img_gray=cv2.resize(img_gray, (step,step))\n",
        "  return img_gray \n",
        "#data load\n",
        "def load_train_data(img_size,step_size):\n",
        "  train_root_path=\"./train\"\n",
        "  len(os.listdir(train_root_path))\n",
        "  train_data=[]\n",
        "  label=[]\n",
        "  train_des=[]\n",
        "  cn=1\n",
        "  for lis in tqdm(class_name):\n",
        "  #for lis in tqdm(class_name[:25]):\n",
        "    img_list=os.listdir(train_root_path+'/'+lis)\n",
        "    for i in img_list:\n",
        "      gray=resize(train_root_path+'/'+lis+'/'+i,img_size)\n",
        "      train_des.append(dense_sift(gray,step_size))\n",
        "      #train_data.append(gray)\n",
        "      label.append(cn)\n",
        "    cn+=1\n",
        "  train_des=np.array(train_des)\n",
        "  return train_des,label\n",
        "def load_test_data(img_size,step_size):\n",
        "  test_root_path=\"./testAll_v2\"\n",
        "  len(os.listdir(test_root_path))\n",
        "  test_data=[]\n",
        "  test_des=[]\n",
        "  test_name=[]\n",
        "  lis=os.listdir(test_root_path)\n",
        "  lis.sort()\n",
        "  for lis in tqdm(lis):\n",
        "      gray=resize(test_root_path+'/'+lis,img_size)\n",
        "      #test_data.append(gray)\n",
        "      test_des.append(dense_sift(gray,step_size))\n",
        "      test_name.append(lis)\n",
        "\n",
        "  test_des=np.array(test_des)\n",
        "  return test_des,test_name \n",
        "# SIFT weak feature extraction\n",
        "def weak_sift(gray):\n",
        "  sift=cv2.xfeatures2d_SIFT.create()\n",
        "  kp,des=sift.detectAndCompute(gray,None)\n",
        "\n",
        "  return des\n",
        "#SIFT dense feature extraction\n",
        "def dense_sift(gray,step):\n",
        "  sift=cv2.xfeatures2d_SIFT.create()\n",
        "  keypoints=[]\n",
        "  w,h=gray.shape\n",
        "  keypoints=[cv2.KeyPoint(i,j,step) for i in range(0,h,step) for j in range(0,w,step)]\n",
        "  kp,des=sift.compute(gray,keypoints)\n",
        "  \n",
        "  return des \n",
        "\n",
        "def make_val(label,num):\n",
        "  val_ind = []\n",
        "  ran = random.randrange(0, 3031)\n",
        "  for i in range(num) :\n",
        "      while num in val_ind :\n",
        "          num = random.randrange(0, 3031)\n",
        "      val_ind.append(num)\n",
        "  ind=[i for i in range(3031)]\n",
        "  ind_=[item for item in ind if item not in val_ind]\n",
        "  \n",
        "  X1=train_des[ind_]\n",
        "  X2=train_des[val_ind]\n",
        "  y1=label[ind_]\n",
        "  y2=label[val_ind]\n",
        "  return X1,X2,y1,y2\n",
        "################################\n",
        "######## make histogram ########\n",
        "################################\n",
        "def histogram(data_set,size):\n",
        "  train_his=[]\n",
        "  for i in data_set:\n",
        "    den=dense_sift(i,8)\n",
        "    predict=Kmeans.predict(den)\n",
        "    count=np.bincount(predict,minlength=size)\n",
        "    train_his.append(count)\n",
        "  return train_his\n",
        "def histogram_vq(data_des):\n",
        "\n",
        "  his=[]\n",
        "  for i in tqdm(data_des):\n",
        "    code_word=vq(i,codebook)[0]\n",
        "    count=np.bincount(code_word,minlength=400)\n",
        "    his.append(count)\n",
        "  his=scale(his)\n",
        "  return his  \n",
        "\n",
        "def SPM_(L, des,codebooksize):\n",
        "    des_cn=int(math.sqrt(des.shape[0]))\n",
        "    ind_num=np.array(range(des.shape[0]))\n",
        "    ind_num=ind_num.reshape(des_cn,des_cn)\n",
        "    h = []\n",
        "    for l in  range(L+1):      #레벨별 실행\n",
        "        des_step = int(des_cn/(2**l))\n",
        "        x, y = 0, 0\n",
        "        for i in range(1,2**l + 1):   #가로세로 이중포문\n",
        "            x = 0\n",
        "            for j in range(1, 2**l + 1):     \n",
        "                ind=ind_num[x:x+des_step,y:y+des_step]  \n",
        "                ind=ind.reshape(-1)     \n",
        "                desc = des[ind,:]\n",
        "                #print(\"type:\",desc is None, \"x:\",x,\"y:\",y, \"desc_size:\",desc is None)\n",
        "                code_word=vq(desc,codebook)[0]\n",
        "                count=np.bincount(code_word,minlength=codebooksize)\n",
        "                if l == 0:\n",
        "                    weight = 2**(l- L);\n",
        "                else:\n",
        "                    weight = 2**(l- L -1);\n",
        "                h.append(weight*count)\n",
        "                x = x + des_step\n",
        "            y = y + des_step\n",
        "          #h=scale(h)\n",
        "    hist = np.array(h).reshape(-1)\n",
        "    return hist\n",
        "\n",
        "def histogram_spm(L, data,codebooksize):    \n",
        "    x = []\n",
        "    for desi in tqdm(data):        \n",
        "        hist = SPM_(L, desi,codebooksize)        \n",
        "        x.append(hist)\n",
        "    return np.array(x)\n",
        "############################\n",
        "####### train method #######\n",
        "############################\n",
        "def SVM_GPU(X_train,X_val,y_train,C):\n",
        "  X_train = xp.asarray(X_train)\n",
        "  X_val = xp.asarray(X_val)\n",
        "  y_train = xp.asarray(y_train)\n",
        "\n",
        "  #svm = SVM(kernel='linear', kernel_params={'sigma': 15}, classification_strategy='ovr', x=X_train, y=y_train)\n",
        "  svm = SVM(kernel='linear',classification_strategy='ovr', kernel_params={'C':1},x=X_train, y=y_train)\n",
        "\n",
        "  svm.fit(X_train, y_train)\n",
        "\n",
        "  val_fit=svm.predict(X_val)\n",
        "  val_fit=xp.asnumpy(val_fit)\n",
        "  '''\n",
        "  test_h = xp.asarray(test_h)\n",
        "  result=svm.prdict(test_h)\n",
        "  result=xp.asnumpy(result)\n",
        "  '''\n",
        "  return result, val_fit\n",
        "\n",
        "def SVM_Grid(X_train,X_val,y_train,test_h,c,g):\n",
        "\n",
        "  svm = SVC(kernel='rbf')\n",
        "  param_grid = {'C':c,'gamma':g}\n",
        "  grid = GridSearchCV(svm, param_grid, cv=5)\n",
        "\n",
        "  grid.fit(X_train,y_train)\n",
        "  print(grid.best_params_)\n",
        "  val_fit=grid.predict(X_val)\n",
        "  result=grid.predict(test_h)\n",
        "  return result, val_fit\n",
        "\n",
        "def SVM_Grid_val(X_train,X_val,y_train,c,g):\n",
        "\n",
        "  svm = SVC(kernel='rbf',class_weight='balanced')\n",
        "  param_grid = {'C':c,'gamma':g}\n",
        "  grid = GridSearchCV(svm, param_grid, cv=5)\n",
        "\n",
        "  grid.fit(X_train,y_train)\n",
        "  print(grid.best_params_)\n",
        "  val_fit=grid.predict(X_val)\n",
        "  return  val_fit\n",
        "\n",
        "def SVM_(X_train,X_val,y_train,test_h,c,g):\n",
        "  svm = SVC(kernel='rbf',class_weight='balanced',C=c,gamma=g)\n",
        "  svm.fit(X_train,y_train)\n",
        "  val_fit=svm.predict(X_val)\n",
        "  result=svm.predict(test_h)\n",
        "  return result, val_fit\n",
        "\n",
        "def SVM_val(X_train,X_val,y_train,c):\n",
        "  svm = SVC(kernel='linear',C=c)\n",
        "  svm.fit(X_train,y_train)\n",
        "  val_fit=svm.predict(X_val)\n",
        "  return val_fit\n",
        "\n",
        "def DT(X_train,X_val,y_train,test_h,n):\n",
        "  model=DecisionTreeClassifier()\n",
        "  bag=BaggingClassifier(model,n_estimators=n)\n",
        "  bag.fit(X_train,y_train)\n",
        "  val_fit=bag.predict(X_val)\n",
        "####################\n",
        "####### data #######\n",
        "####################\n",
        "def make_result_csv(result,test_name):\n",
        "  result_=np.append(['Category'],result)\n",
        "  result_id=np.append(['Id'],test_name)\n",
        "  df = pd.DataFrame(result_,result_id,columns=[' '])\n",
        "  df.to_csv('results_.csv',index=True, header=False)\n",
        "  print(df)\n",
        "\n",
        "def save_array(file_name,arr):\n",
        "  with open(file_name,'wb') as f:\n",
        "    pickle.dump(arr,f)\n",
        "def load_array(file_name):\n",
        "  with open(file_name,'rb') as f:\n",
        "    arr=pickle.load(f)\n",
        "  return arr"
      ],
      "execution_count": 0,
      "outputs": []
    },
    {
      "cell_type": "code",
      "metadata": {
        "id": "c1wW-lZj-ABF",
        "colab_type": "code",
        "outputId": "4a4a6e3a-b03c-4f6a-854b-1435f51a501d",
        "colab": {
          "base_uri": "https://localhost:8080/",
          "height": 402
        }
      },
      "source": [
        "df_data=pd.read_csv('/content/Label2Names.csv',header=None)\n",
        "class_name=df_data[1].tolist()\n",
        "#class_name.append('BACKGROUND_Google')\n",
        "df_data"
      ],
      "execution_count": 0,
      "outputs": [
        {
          "output_type": "execute_result",
          "data": {
            "text/html": [
              "<div>\n",
              "<style scoped>\n",
              "    .dataframe tbody tr th:only-of-type {\n",
              "        vertical-align: middle;\n",
              "    }\n",
              "\n",
              "    .dataframe tbody tr th {\n",
              "        vertical-align: top;\n",
              "    }\n",
              "\n",
              "    .dataframe thead th {\n",
              "        text-align: right;\n",
              "    }\n",
              "</style>\n",
              "<table border=\"1\" class=\"dataframe\">\n",
              "  <thead>\n",
              "    <tr style=\"text-align: right;\">\n",
              "      <th></th>\n",
              "      <th>0</th>\n",
              "      <th>1</th>\n",
              "    </tr>\n",
              "  </thead>\n",
              "  <tbody>\n",
              "    <tr>\n",
              "      <th>0</th>\n",
              "      <td>1</td>\n",
              "      <td>Faces</td>\n",
              "    </tr>\n",
              "    <tr>\n",
              "      <th>1</th>\n",
              "      <td>2</td>\n",
              "      <td>Faces_easy</td>\n",
              "    </tr>\n",
              "    <tr>\n",
              "      <th>2</th>\n",
              "      <td>3</td>\n",
              "      <td>Leopards</td>\n",
              "    </tr>\n",
              "    <tr>\n",
              "      <th>3</th>\n",
              "      <td>4</td>\n",
              "      <td>Motorbikes</td>\n",
              "    </tr>\n",
              "    <tr>\n",
              "      <th>4</th>\n",
              "      <td>5</td>\n",
              "      <td>accordion</td>\n",
              "    </tr>\n",
              "    <tr>\n",
              "      <th>...</th>\n",
              "      <td>...</td>\n",
              "      <td>...</td>\n",
              "    </tr>\n",
              "    <tr>\n",
              "      <th>96</th>\n",
              "      <td>97</td>\n",
              "      <td>wheelchair</td>\n",
              "    </tr>\n",
              "    <tr>\n",
              "      <th>97</th>\n",
              "      <td>98</td>\n",
              "      <td>wild_cat</td>\n",
              "    </tr>\n",
              "    <tr>\n",
              "      <th>98</th>\n",
              "      <td>99</td>\n",
              "      <td>windsor_chair</td>\n",
              "    </tr>\n",
              "    <tr>\n",
              "      <th>99</th>\n",
              "      <td>100</td>\n",
              "      <td>wrench</td>\n",
              "    </tr>\n",
              "    <tr>\n",
              "      <th>100</th>\n",
              "      <td>101</td>\n",
              "      <td>yin_yang</td>\n",
              "    </tr>\n",
              "  </tbody>\n",
              "</table>\n",
              "<p>101 rows × 2 columns</p>\n",
              "</div>"
            ],
            "text/plain": [
              "       0              1\n",
              "0      1          Faces\n",
              "1      2     Faces_easy\n",
              "2      3       Leopards\n",
              "3      4     Motorbikes\n",
              "4      5      accordion\n",
              "..   ...            ...\n",
              "96    97     wheelchair\n",
              "97    98       wild_cat\n",
              "98    99  windsor_chair\n",
              "99   100         wrench\n",
              "100  101       yin_yang\n",
              "\n",
              "[101 rows x 2 columns]"
            ]
          },
          "metadata": {
            "tags": []
          },
          "execution_count": 34
        }
      ]
    },
    {
      "cell_type": "code",
      "metadata": {
        "id": "cvvtSWyeDg4u",
        "colab_type": "code",
        "outputId": "10dd2c10-e48b-439e-f663-14cafa09ba6d",
        "colab": {
          "base_uri": "https://localhost:8080/",
          "height": 52
        }
      },
      "source": [
        "train_des,label=load_train_data(256,8)\n",
        "test_des,test_name=load_test_data(256,8)"
      ],
      "execution_count": 0,
      "outputs": [
        {
          "output_type": "stream",
          "text": [
            "100%|██████████| 101/101 [02:51<00:00,  1.70s/it]\n",
            "100%|██████████| 1692/1692 [01:37<00:00, 17.36it/s]\n"
          ],
          "name": "stderr"
        }
      ]
    },
    {
      "cell_type": "code",
      "metadata": {
        "id": "hkekZK24f_-I",
        "colab_type": "code",
        "outputId": "878e60d5-ba79-4acd-bd0a-e52c20b6f9c5",
        "colab": {
          "base_uri": "https://localhost:8080/",
          "height": 70
        }
      },
      "source": [
        "des_vec=train_des.reshape(-1,128)\n",
        "print(\"train_des : \",train_des.shape)\n",
        "print(\"test_des : \",test_des.shape)\n",
        "print(\"des_vec : \",des_vec.shape)"
      ],
      "execution_count": 0,
      "outputs": [
        {
          "output_type": "stream",
          "text": [
            "train_des :  (3030, 1024, 128)\n",
            "test_des :  (1692, 1024, 128)\n",
            "des_vec :  (3102720, 128)\n"
          ],
          "name": "stdout"
        }
      ]
    },
    {
      "cell_type": "code",
      "metadata": {
        "id": "g0IM4yICJJOX",
        "colab_type": "code",
        "outputId": "9ecd19a7-0ac0-4d0a-a096-7d13fea4318e",
        "colab": {
          "base_uri": "https://localhost:8080/",
          "height": 90
        }
      },
      "source": [
        "codebooksize=400\n",
        "seeding = kmc2.kmc2(des_vec, codebooksize) \n",
        "Kmeans = MiniBatchKMeans(codebooksize, init=seeding,init_size=codebooksize).fit(des_vec)\n",
        "codebook = Kmeans.cluster_centers_\n",
        "print(\"codebook : \",codebook.shape)"
      ],
      "execution_count": 0,
      "outputs": [
        {
          "output_type": "stream",
          "text": [
            "/usr/local/lib/python3.6/dist-packages/ipykernel_launcher.py:3: RuntimeWarning: Explicit initial center position passed: performing only one init in MiniBatchKMeans instead of n_init=3\n",
            "  This is separate from the ipykernel package so we can avoid doing imports until\n"
          ],
          "name": "stderr"
        },
        {
          "output_type": "stream",
          "text": [
            "codebook :  (400, 128)\n"
          ],
          "name": "stdout"
        }
      ]
    },
    {
      "cell_type": "code",
      "metadata": {
        "id": "_eBjPUUTNRpN",
        "colab_type": "code",
        "outputId": "d0e83f13-b91e-4d1a-910a-d7897d4285ba",
        "colab": {
          "base_uri": "https://localhost:8080/",
          "height": 52
        }
      },
      "source": [
        "histogram_vq\n",
        "h_list = histogram_vq(train_des)\n",
        "test_h = histogram_vq(test_des)"
      ],
      "execution_count": 0,
      "outputs": [
        {
          "output_type": "stream",
          "text": [
            "100%|██████████| 3030/3030 [00:10<00:00, 297.01it/s]\n",
            "100%|██████████| 1692/1692 [00:05<00:00, 301.28it/s]\n"
          ],
          "name": "stderr"
        }
      ]
    },
    {
      "cell_type": "code",
      "metadata": {
        "id": "RIMuNUGKKaOr",
        "colab_type": "code",
        "outputId": "448b0394-e1db-4769-c8d8-b6b00cbd15c1",
        "colab": {
          "base_uri": "https://localhost:8080/",
          "height": 34
        }
      },
      "source": [
        "h_list.shape"
      ],
      "execution_count": 0,
      "outputs": [
        {
          "output_type": "execute_result",
          "data": {
            "text/plain": [
              "(3030, 400)"
            ]
          },
          "metadata": {
            "tags": []
          },
          "execution_count": 52
        }
      ]
    },
    {
      "cell_type": "code",
      "metadata": {
        "id": "2nZ16EO2s7D8",
        "colab_type": "code",
        "outputId": "4532c107-89f6-4a65-eacd-682c53a5300a",
        "colab": {
          "base_uri": "https://localhost:8080/",
          "height": 282
        }
      },
      "source": [
        "\n",
        "histo_plt=h_list[0]\n",
        "plt.bar(range(codebooksize),histo_plt , color='g')\n"
      ],
      "execution_count": 0,
      "outputs": [
        {
          "output_type": "execute_result",
          "data": {
            "text/plain": [
              "<BarContainer object of 400 artists>"
            ]
          },
          "metadata": {
            "tags": []
          },
          "execution_count": 55
        },
        {
          "output_type": "display_data",
          "data": {
            "image/png": "[encoded data removed]",
            "text/plain": [
              "<Figure size 432x288 with 1 Axes>"
            ]
          },
          "metadata": {
            "tags": []
          }
        }
      ]
    },
    {
      "cell_type": "code",
      "metadata": {
        "id": "lOlyo88dGy8H",
        "colab_type": "code",
        "outputId": "1d8b7c70-4fe2-4304-ae11-95132d6b91f2",
        "colab": {
          "base_uri": "https://localhost:8080/",
          "height": 34
        }
      },
      "source": [
        "#result,val_fit=SVM_Grid(h_list,val_h,y1,test_h,[4,10,12],[0.05,0.001,0.0008])\n",
        "results=SVM_Grid_val(h_list,test_h,label,[1,4,10],[0.01,0.001,0.0001])\n",
        "\n",
        "##result,val_fit=SVM_(h_list,val_h,y1,test_h, 4, 0.001)\n",
        "#results=SVM_val(h_list,test_h,label,1)\n",
        "\n",
        "\n",
        "#result,val_fit=SVM_GPU(X_train,X_val,y_train,1)\n",
        "#result,val_fit=SVM_GPU(X_train,X_val,y_train,test_h,1)\n",
        "#result=DT(X_train,X_val,y_train,test_h,1000)"
      ],
      "execution_count": 0,
      "outputs": [
        {
          "output_type": "stream",
          "text": [
            "{'C': 4, 'gamma': 0.001}\n"
          ],
          "name": "stdout"
        }
      ]
    },
    {
      "cell_type": "code",
      "metadata": {
        "id": "87_x9Y0ET7wX",
        "colab_type": "code",
        "outputId": "ff35f7cb-c020-4718-96ac-204ef4f68843",
        "colab": {
          "base_uri": "https://localhost:8080/",
          "height": 263
        }
      },
      "source": [
        "make_result_csv(results,test_name)"
      ],
      "execution_count": 0,
      "outputs": [
        {
          "output_type": "stream",
          "text": [
            "                        \n",
            "Id              Category\n",
            "image_0001.jpg        54\n",
            "image_0002.jpg        89\n",
            "image_0003.jpg        92\n",
            "image_0004.jpg        34\n",
            "...                  ...\n",
            "image_1688.jpg        11\n",
            "image_1689.jpg        61\n",
            "image_1690.jpg        29\n",
            "image_1691.jpg        45\n",
            "image_1692.jpg        35\n",
            "\n",
            "[1693 rows x 1 columns]\n"
          ],
          "name": "stdout"
        }
      ]
    },
    {
      "cell_type": "code",
      "metadata": {
        "id": "FjLgBPEUA6j7",
        "colab_type": "code",
        "outputId": "51542c2f-5b16-45ea-e2f9-3ed7a4169fd6",
        "colab": {
          "base_uri": "https://localhost:8080/",
          "height": 52
        }
      },
      "source": [
        "! kaggle competitions submit -c 2019-ml-finalproject -f results_.csv -m \"sanhee-1213_pca\""
      ],
      "execution_count": 0,
      "outputs": [
        {
          "output_type": "stream",
          "text": [
            "\r  0% 0.00/29.6k [00:00<?, ?B/s]\r100% 29.6k/29.6k [00:00<00:00, 97.5kB/s]\n",
            "Successfully submitted to 2019.Fall.PatternRecognition "
          ],
          "name": "stdout"
        }
      ]
    }
  ]
}