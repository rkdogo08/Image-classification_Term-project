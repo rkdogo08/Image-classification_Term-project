{
  "nbformat": 4,
  "nbformat_minor": 0,
  "metadata": {
    "colab": {
      "name": "term_project_256_8.ipynb",
      "provenance": [],
      "collapsed_sections": [],
      "machine_shape": "hm"
    },
    "kernelspec": {
      "name": "python3",
      "display_name": "Python 3"
    },
    "accelerator": "GPU"
  },
  "cells": [
    
    
    {
      "cell_type": "code",
      "metadata": {
        "id": "ZelWTahAq3xE",
        "colab_type": "code",
        "colab": {}
      },
      "source": [
        "def histogram(data_set,size):\n",
        "  train_his=[]\n",
        "  for i in data_set:\n",
        "    den=dense_sift(i,8)\n",
        "    predict=Kmeans.predict(den)\n",
        "    count=np.bincount(predict,minlength=size)\n",
        "    train_his.append(count)\n",
        "  return train_his\n",
        "\n",
        "#h_list=histogram(train_data,codebooksize)\n",
        "#h_list=np.array(h_list)"
      ],
      "execution_count": 0,
      "outputs": []
    },
    {
      "cell_type": "code",
      "metadata": {
        "id": "Lu9eopQ7cW3C",
        "colab_type": "code",
        "colab": {}
      },
      "source": [
        "def histogram_vq(data_des):\n",
        "\n",
        "  his=[]\n",
        "  for i in data_des:\n",
        "    code_word=vq(i,codebook)[0]\n",
        "    count=np.bincount(code_word,minlength=400)\n",
        "    his.append(count)\n",
        "  return his  \n",
        "\n",
        "h_list=histogram_vq(train_des)\n",
        "h_list=np.array(h_list)"
      ],
      "execution_count": 0,
      "outputs": []
    },
    {
      "cell_type": "code",
      "metadata": {
        "id": "GqdeHGooOK6s",
        "colab_type": "code",
        "colab": {
          "base_uri": "https://localhost:8080/",
          "height": 300
        },
        "outputId": "28486eed-5413-48ff-9bdf-8a053001221c"
      },
      "source": [
        "print(h_list.shape)\n",
        "plt.bar(range(400),h_list[0,:] , color='g')"
      ],
      "execution_count": 29,
      "outputs": [
        {
          "output_type": "stream",
          "text": [
            "(3060, 400)\n"
          ],
          "name": "stdout"
        },
        {
          "output_type": "execute_result",
          "data": {
            "text/plain": [
              "<BarContainer object of 400 artists>"
            ]
          },
          "metadata": {
            "tags": []
          },
          "execution_count": 29
        },
        {
          "output_type": "display_data",
          "data": {
            "image/png": "[encoded data removed]",
            "text/plain": [
              "<Figure size 432x288 with 1 Axes>"
            ]
          },
          "metadata": {
            "tags": []
          }
        }
      ]
    }
  ]
}
