{
  "nbformat": 4,
  "nbformat_minor": 0,
  "metadata": {
    "colab": {
      "name": "term_project_256_8.ipynb",
      "provenance": [],
      "collapsed_sections": [],
      "machine_shape": "hm"
    },
    "kernelspec": {
      "name": "python3",
      "display_name": "Python 3"
    },
    "accelerator": "GPU"
  },
  "cells": [
    
    {
      "cell_type": "code",
      "metadata": {
        "id": "jhM_UiO8Fl4g",
        "colab_type": "code",
        "outputId": "a5902194-5c51-4161-9055-f50a566b85b4",
        "colab": {
          "base_uri": "https://localhost:8080/",
          "height": 34
        }
      },
      "source": [
        "np.array(test_des).shape"
      ],
      "execution_count": 16,
      "outputs": [
        {
          "output_type": "execute_result",
          "data": {
            "text/plain": [
              "(1692, 1024, 128)"
            ]
          },
          "metadata": {
            "tags": []
          },
          "execution_count": 16
        }
      ]
    },
    {
      "cell_type": "code",
      "metadata": {
        "id": "tk8lVPuRHnCm",
        "colab_type": "code",
        "colab": {}
      },
      "source": [
        "des_vec=np.array(train_des)\n",
        "des_vec=des_vec.reshape(-1,128)"
      ],
      "execution_count": 0,
      "outputs": []
    },
    {
      "cell_type": "code",
      "metadata": {
        "id": "TJJZwasPhPYv",
        "colab_type": "code",
        "outputId": "d7e311ca-99c8-4dd6-d4fd-9220b25b3a2c",
        "colab": {
          "base_uri": "https://localhost:8080/",
          "height": 34
        }
      },
      "source": [
        "des_vec.shape"
      ],
      "execution_count": 22,
      "outputs": [
        {
          "output_type": "execute_result",
          "data": {
            "text/plain": [
              "(3133440, 128)"
            ]
          },
          "metadata": {
            "tags": []
          },
          "execution_count": 22
        }
      ]
    },
    {
      "cell_type": "code",
      "metadata": {
        "id": "g0IM4yICJJOX",
        "colab_type": "code",
        "outputId": "b498371d-cc36-4ce7-f0e3-78b40b6a594f",
        "colab": {
          "base_uri": "https://localhost:8080/",
          "height": 52
        }
      },
      "source": [
        "codebooksize=400\n",
        "seeding = kmc2.kmc2(des_vec, codebooksize) \n",
        "Kmeans = MiniBatchKMeans(codebooksize, init=seeding,init_size=400).fit(des_vec)\n",
        "codebook = Kmeans.cluster_centers_"
      ],
      "execution_count": 25,
      "outputs": [
        {
          "output_type": "stream",
          "text": [
            "/usr/local/lib/python3.6/dist-packages/ipykernel_launcher.py:3: RuntimeWarning: Explicit initial center position passed: performing only one init in MiniBatchKMeans instead of n_init=3\n",
            "  This is separate from the ipykernel package so we can avoid doing imports until\n"
          ],
          "name": "stderr"
        }
      ]
    },
    {
      "cell_type": "code",
      "metadata": {
        "id": "hWKwJeCbOjtz",
        "colab_type": "code",
        "outputId": "ff1b6d50-5b3b-40c0-97e2-595f41a55473",
        "colab": {
          "base_uri": "https://localhost:8080/",
          "height": 34
        }
      },
      "source": [
        "codebook.shape"
      ],
      "execution_count": 26,
      "outputs": [
        {
          "output_type": "execute_result",
          "data": {
            "text/plain": [
              "(400, 128)"
            ]
          },
          "metadata": {
            "tags": []
          },
          "execution_count": 26
        }
      ]
    },
    {
      "cell_type": "code",
      "metadata": {
        "id": "ZelWTahAq3xE",
        "colab_type": "code",
        "colab": {}
      },
      "source": [
        "def histogram(data_set,size):\n",
        "  train_his=[]\n",
        "  for i in data_set:\n",
        "    den=dense_sift(i,8)\n",
        "    predict=Kmeans.predict(den)\n",
        "    count=np.bincount(predict,minlength=size)\n",
        "    train_his.append(count)\n",
        "  return train_his\n",
        "\n",
        "#h_list=histogram(train_data,codebooksize)\n",
        "#h_list=np.array(h_list)"
      ],
      "execution_count": 0,
      "outputs": []
    },
    {
      "cell_type": "code",
      "metadata": {
        "id": "Lu9eopQ7cW3C",
        "colab_type": "code",
        "colab": {}
      },
      "source": [
        "def histogram_vq(data_des):\n",
        "\n",
        "  his=[]\n",
        "  for i in data_des:\n",
        "    code_word=vq(i,codebook)[0]\n",
        "    count=np.bincount(code_word,minlength=400)\n",
        "    his.append(count)\n",
        "  return his  \n",
        "\n",
        "h_list=histogram_vq(train_des)\n",
        "h_list=np.array(h_list)"
      ],
      "execution_count": 0,
      "outputs": []
    },
    {
      "cell_type": "code",
      "metadata": {
        "id": "GqdeHGooOK6s",
        "colab_type": "code",
        "colab": {
          "base_uri": "https://localhost:8080/",
          "height": 300
        },
        "outputId": "28486eed-5413-48ff-9bdf-8a053001221c"
      },
      "source": [
        "print(h_list.shape)\n",
        "plt.bar(range(400),h_list[0,:] , color='g')"
      ],
      "execution_count": 29,
      "outputs": [
        {
          "output_type": "stream",
          "text": [
            "(3060, 400)\n"
          ],
          "name": "stdout"
        },
        {
          "output_type": "execute_result",
          "data": {
            "text/plain": [
              "<BarContainer object of 400 artists>"
            ]
          },
          "metadata": {
            "tags": []
          },
          "execution_count": 29
        },
        {
          "output_type": "display_data",
          "data": {
            "image/png": "[encoded data removed]",
            "text/plain": [
              "<Figure size 432x288 with 1 Axes>"
            ]
          },
          "metadata": {
            "tags": []
          }
        }
      ]
    },
    {
      "cell_type": "code",
      "metadata": {
        "id": "PeoQ00MZHVuG",
        "colab_type": "code",
        "outputId": "ac3dc5c9-feab-41a0-8132-cca9d65cb6c7",
        "colab": {
          "base_uri": "https://localhost:8080/",
          "height": 140
        }
      },
      "source": [
        "#test_h=histogram(test_data,codebooksize)\n",
        "test_h=histogram_vq(test_des)\n",
        "test_h=np.array(test_h)\n",
        "test_h"
      ],
      "execution_count": 30,
      "outputs": [
        {
          "output_type": "execute_result",
          "data": {
            "text/plain": [
              "array([[ 1, 37, 11, ...,  0,  0,  2],\n",
              "       [11,  3,  0, ...,  0,  0,  0],\n",
              "       [ 0, 20,  0, ...,  1,  0,  2],\n",
              "       ...,\n",
              "       [ 0,  0,  2, ...,  0,  0,  0],\n",
              "       [ 0, 39,  9, ...,  0,  0,  0],\n",
              "       [ 0,  9,  0, ...,  0,  3,  0]])"
            ]
          },
          "metadata": {
            "tags": []
          },
          "execution_count": 30
        }
      ]
    },
    {
      "cell_type": "code",
      "metadata": {
        "id": "1WALrz5lxqHU",
        "colab_type": "code",
        "colab": {}
      },
      "source": [
        "with open('histogram400_256_8.txt','wb') as f:\n",
        "  pickle.dump(h_list,f)\n",
        "with open('histogram_test400_256_8.txt','wb') as f:\n",
        "  pickle.dump(test_h,f)\n",
        "with open('label.txt','wb') as f:\n",
        "  pickle.dump(label,f)\n",
        "with open('test_name.txt','wb') as f:\n",
        "  pickle.dump(test_name,f)"
      ],
      "execution_count": 0,
      "outputs": []
    },
    {
      "cell_type": "code",
      "metadata": {
        "id": "wcmppNkLyB8S",
        "colab_type": "code",
        "outputId": "b6275682-6e3c-4e90-b27f-0a96b0b501a1",
        "colab": {
          "base_uri": "https://localhost:8080/",
          "height": 54
        }
      },
      "source": [
        "'''\n",
        "with open('histogram.txt','rb') as f:\n",
        "  h_list=pickle.load(f)\n",
        "with open('histogram_test.txt','rb') as f:\n",
        "  test_h=pickle.load(f)\n",
        "with open('label.txt','rb') as f:\n",
        "  label=pickle.load(f)\n",
        "with open('test_name.txt','rb') as f:\n",
        "  test_name=pickle.load(f)\n",
        "'''"
      ],
      "execution_count": 32,
      "outputs": [
        {
          "output_type": "execute_result",
          "data": {
            "text/plain": [
              "\"\\nwith open('histogram.txt','rb') as f:\\n  h_list=pickle.load(f)\\nwith open('histogram_test.txt','rb') as f:\\n  test_h=pickle.load(f)\\nwith open('label.txt','rb') as f:\\n  label=pickle.load(f)\\nwith open('test_name.txt','rb') as f:\\n  test_name=pickle.load(f)\\n\""
            ]
          },
          "metadata": {
            "tags": []
          },
          "execution_count": 32
        }
      ]
    },
    {
      "cell_type": "code",
      "metadata": {
        "id": "c4bbvTF34g8G",
        "colab_type": "code",
        "colab": {}
      },
      "source": [
        "X_train,X_val,y_train,y_val=train_test_split(h_list,label,test_size=0.1,random_state=42)"
      ],
      "execution_count": 0,
      "outputs": []
    },
    {
      "cell_type": "code",
      "metadata": {
        "id": "ixuQDclhcHu3",
        "colab_type": "code",
        "colab": {
          "base_uri": "https://localhost:8080/",
          "height": 54
        },
        "outputId": "dd6f5061-7a09-4eb0-e8f8-3815d1910d8b"
      },
      "source": [
        "'''\n",
        "X_train = xp.asarray(X_train)\n",
        "X_val = xp.asarray(X_val)\n",
        "y_train = xp.asarray(y_train)\n",
        "\n",
        "#svm = SVM(kernel='linear', kernel_params={'sigma': 15}, classification_strategy='ovr', x=X_train, y=y_train, n_folds=3, use_optimal_lambda=True, display_plots=True)\n",
        "svm = SVM(kernel='linear',classification_strategy='ovr', kernel_params={'C':1},x=X_train, y=y_train)\n",
        "\n",
        "svm.fit(X_train, y_train)\n",
        "\n",
        "X_val = xp.asarray(X_val)\n",
        "val_fit=svm.predict(X_val)\n",
        "print(type(xp.asnumpy(val_fit)))\n",
        "\n",
        "test_h = xp.asarray(test_h)\n",
        "result=svm.prdict(test_h)\n",
        "result=xp.asnumpy(result)\n",
        "'''\n"
      ],
      "execution_count": 34,
      "outputs": [
        {
          "output_type": "execute_result",
          "data": {
            "text/plain": [
              "\"\\nX_train = xp.asarray(X_train)\\nX_val = xp.asarray(X_val)\\ny_train = xp.asarray(y_train)\\n\\n#svm = SVM(kernel='linear', kernel_params={'sigma': 15}, classification_strategy='ovr', x=X_train, y=y_train, n_folds=3, use_optimal_lambda=True, display_plots=True)\\nsvm = SVM(kernel='linear',classification_strategy='ovr', kernel_params={'C':1},x=X_train, y=y_train)\\n\\nsvm.fit(X_train, y_train)\\n\\nX_val = xp.asarray(X_val)\\nval_fit=svm.predict(X_val)\\nprint(type(xp.asnumpy(val_fit)))\\n\\ntest_h = xp.asarray(test_h)\\nresult=svm.prdict(test_h)\\nresult=xp.asnumpy(result)\\n\""
            ]
          },
          "metadata": {
            "tags": []
          },
          "execution_count": 34
        }
      ]
    },
    {
      "cell_type": "code",
      "metadata": {
        "id": "lOlyo88dGy8H",
        "colab_type": "code",
        "outputId": "5d68177d-addb-4d90-ac9d-d87c780c2d96",
        "colab": {
          "base_uri": "https://localhost:8080/",
          "height": 230
        }
      },
      "source": [
        "\n",
        "from sklearn.model_selection import GridSearchCV\n",
        "\n",
        "svm = SVC(kernel='linear')\n",
        "param_grid = {'C':[1,2,3]}\n",
        "grid = GridSearchCV(svm, param_grid, cv=5)\n",
        "\n",
        "grid.fit(X_train,y_train)\n",
        "#svm.fit(X_train,y_train)\n"
      ],
      "execution_count": 35,
      "outputs": [
        {
          "output_type": "stream",
          "text": [
            "/usr/local/lib/python3.6/dist-packages/sklearn/model_selection/_search.py:814: DeprecationWarning: The default of the `iid` parameter will change from True to False in version 0.22 and will be removed in 0.24. This will change numeric results when test-set sizes are unequal.\n",
            "  DeprecationWarning)\n"
          ],
          "name": "stderr"
        },
        {
          "output_type": "execute_result",
          "data": {
            "text/plain": [
              "GridSearchCV(cv=5, error_score='raise-deprecating',\n",
              "             estimator=SVC(C=1.0, cache_size=200, class_weight=None, coef0=0.0,\n",
              "                           decision_function_shape='ovr', degree=3,\n",
              "                           gamma='auto_deprecated', kernel='linear',\n",
              "                           max_iter=-1, probability=False, random_state=None,\n",
              "                           shrinking=True, tol=0.001, verbose=False),\n",
              "             iid='warn', n_jobs=None, param_grid={'C': [1, 2, 3]},\n",
              "             pre_dispatch='2*n_jobs', refit=True, return_train_score=False,\n",
              "             scoring=None, verbose=0)"
            ]
          },
          "metadata": {
            "tags": []
          },
          "execution_count": 35
        }
      ]
    },
    {
      "cell_type": "code",
      "metadata": {
        "id": "YUSwQbBOc1fk",
        "colab_type": "code",
        "colab": {
          "base_uri": "https://localhost:8080/",
          "height": 34
        },
        "outputId": "a6541fc5-44c9-4fc9-d73b-a15c002c7be0"
      },
      "source": [
        "val_fit=grid.predict(X_val)\n",
        "\n",
        "result=grid.predict(test_h)\n",
        "grid.best_params_\n"
      ],
      "execution_count": 36,
      "outputs": [
        {
          "output_type": "execute_result",
          "data": {
            "text/plain": [
              "{'C': 1}"
            ]
          },
          "metadata": {
            "tags": []
          },
          "execution_count": 36
        }
      ]
    },
    {
      "cell_type": "code",
      "metadata": {
        "id": "rPlCu9jYr4LN",
        "colab_type": "code",
        "colab": {}
      },
      "source": [
        "#val_fit=svm.predict(X_val)"
      ],
      "execution_count": 0,
      "outputs": []
    },
    {
      "cell_type": "code",
      "metadata": {
        "id": "9-rcnAWPIMzD",
        "colab_type": "code",
        "outputId": "a498a845-5f54-4834-811c-f9e20a6148a0",
        "colab": {
          "base_uri": "https://localhost:8080/",
          "height": 1000
        }
      },
      "source": [
        "from sklearn.metrics import accuracy_score\n",
        "from sklearn.metrics import classification_report\n",
        "from sklearn.metrics import confusion_matrix\n",
        "print(classification_report(xp.asnumpy(val_fit),y_val))\n",
        "\n",
        "print(confusion_matrix(xp.asnumpy(val_fit),y_val))"
      ],
      "execution_count": 38,
      "outputs": [
        {
          "output_type": "stream",
          "text": [
            "              precision    recall  f1-score   support\n",
            "\n",
            "           1       0.67      0.50      0.57         4\n",
            "           2       0.80      1.00      0.89         4\n",
            "           3       1.00      1.00      1.00         4\n",
            "           4       1.00      1.00      1.00         2\n",
            "           5       0.80      0.80      0.80         5\n",
            "           6       0.80      1.00      0.89         4\n",
            "           7       0.17      0.14      0.15         7\n",
            "           8       0.00      0.00      0.00         5\n",
            "           9       0.43      0.60      0.50         5\n",
            "          10       0.20      0.25      0.22         4\n",
            "          11       0.33      0.20      0.25         5\n",
            "          12       0.50      0.29      0.36         7\n",
            "          13       0.00      0.00      0.00         1\n",
            "          14       1.00      0.50      0.67         4\n",
            "          15       0.00      0.00      0.00         1\n",
            "          16       0.50      0.67      0.57         3\n",
            "          17       1.00      0.25      0.40         4\n",
            "          18       1.00      0.40      0.57         5\n",
            "          19       0.33      0.33      0.33         3\n",
            "          20       1.00      0.67      0.80         3\n",
            "          21       0.00      0.00      0.00         1\n",
            "          22       1.00      0.60      0.75         5\n",
            "          23       0.33      0.50      0.40         2\n",
            "          24       0.00      0.00      0.00         1\n",
            "          25       0.00      0.00      0.00         2\n",
            "          26       0.00      0.00      0.00         1\n",
            "          27       0.00      0.00      0.00         0\n",
            "          28       0.00      0.00      0.00         2\n",
            "          29       0.00      0.00      0.00         2\n",
            "          30       0.00      0.00      0.00         6\n",
            "          31       0.00      0.00      0.00         4\n",
            "          32       0.50      0.33      0.40         3\n",
            "          34       1.00      0.20      0.33         5\n",
            "          35       0.00      0.00      0.00         0\n",
            "          36       0.25      0.50      0.33         2\n",
            "          37       0.00      0.00      0.00         2\n",
            "          38       0.50      0.20      0.29         5\n",
            "          39       0.67      0.50      0.57         4\n",
            "          40       1.00      0.33      0.50         3\n",
            "          41       0.00      0.00      0.00         1\n",
            "          42       0.00      0.00      0.00         4\n",
            "          43       1.00      0.50      0.67         6\n",
            "          44       1.00      1.00      1.00         3\n",
            "          45       0.25      0.33      0.29         3\n",
            "          46       0.75      0.60      0.67         5\n",
            "          47       0.00      0.00      0.00         2\n",
            "          48       0.50      1.00      0.67         3\n",
            "          49       0.00      0.00      0.00         2\n",
            "          50       0.33      0.25      0.29         4\n",
            "          51       0.00      0.00      0.00         1\n",
            "          52       0.00      0.00      0.00         5\n",
            "          53       1.00      1.00      1.00         2\n",
            "          54       0.60      0.60      0.60         5\n",
            "          55       0.00      0.00      0.00         2\n",
            "          56       1.00      0.67      0.80         3\n",
            "          57       1.00      0.33      0.50         3\n",
            "          58       0.00      0.00      0.00         0\n",
            "          59       0.20      0.33      0.25         3\n",
            "          60       0.50      0.14      0.22         7\n",
            "          61       0.50      0.14      0.22         7\n",
            "          62       0.67      0.33      0.44         6\n",
            "          63       0.00      0.00      0.00         4\n",
            "          64       0.33      1.00      0.50         1\n",
            "          65       0.67      1.00      0.80         2\n",
            "          66       1.00      1.00      1.00         2\n",
            "          67       0.00      0.00      0.00         2\n",
            "          68       0.33      0.25      0.29         4\n",
            "          69       0.00      0.00      0.00         1\n",
            "          70       1.00      1.00      1.00         1\n",
            "          71       0.25      0.50      0.33         2\n",
            "          72       0.33      1.00      0.50         1\n",
            "          73       1.00      1.00      1.00         2\n",
            "          74       0.50      0.50      0.50         2\n",
            "          75       0.00      0.00      0.00         0\n",
            "          76       1.00      1.00      1.00         1\n",
            "          77       0.33      0.50      0.40         2\n",
            "          78       0.50      0.50      0.50         4\n",
            "          79       0.00      0.00      0.00         1\n",
            "          80       0.00      0.00      0.00         0\n",
            "          81       0.00      0.00      0.00         2\n",
            "          82       0.00      0.00      0.00         3\n",
            "          83       0.20      0.20      0.20         5\n",
            "          84       1.00      1.00      1.00         2\n",
            "          85       0.50      0.14      0.22         7\n",
            "          86       1.00      1.00      1.00         1\n",
            "          87       0.20      0.33      0.25         3\n",
            "          88       0.50      1.00      0.67         1\n",
            "          89       0.50      1.00      0.67         1\n",
            "          90       0.00      0.00      0.00         1\n",
            "          91       0.67      0.50      0.57         4\n",
            "          92       0.60      0.60      0.60         5\n",
            "          93       0.57      1.00      0.73         4\n",
            "          94       0.33      0.25      0.29         4\n",
            "          95       0.50      0.43      0.46         7\n",
            "          96       0.20      0.50      0.29         2\n",
            "          97       0.00      0.00      0.00         0\n",
            "          98       0.00      0.00      0.00         3\n",
            "          99       1.00      1.00      1.00         2\n",
            "         100       0.00      0.00      0.00         3\n",
            "         101       0.57      0.80      0.67         5\n",
            "         102       0.50      0.50      0.50         2\n",
            "\n",
            "    accuracy                           0.40       306\n",
            "   macro avg       0.42      0.39      0.38       306\n",
            "weighted avg       0.48      0.40      0.41       306\n",
            "\n",
            "[[2 1 0 ... 0 0 0]\n",
            " [0 4 0 ... 0 0 0]\n",
            " [0 0 4 ... 0 0 0]\n",
            " ...\n",
            " [0 0 0 ... 0 0 0]\n",
            " [0 0 0 ... 0 4 0]\n",
            " [0 0 0 ... 0 0 1]]\n"
          ],
          "name": "stdout"
        },
        {
          "output_type": "stream",
          "text": [
            "/usr/local/lib/python3.6/dist-packages/sklearn/metrics/classification.py:1437: UndefinedMetricWarning: Precision and F-score are ill-defined and being set to 0.0 in labels with no predicted samples.\n",
            "  'precision', 'predicted', average, warn_for)\n",
            "/usr/local/lib/python3.6/dist-packages/sklearn/metrics/classification.py:1439: UndefinedMetricWarning: Recall and F-score are ill-defined and being set to 0.0 in labels with no true samples.\n",
            "  'recall', 'true', average, warn_for)\n"
          ],
          "name": "stderr"
        }
      ]
    },
    {
      "cell_type": "code",
      "metadata": {
        "id": "SDCtFyD04u-e",
        "colab_type": "code",
        "colab": {}
      },
      "source": [
        "result_=np.append(['Category'],result)\n",
        "result_id=np.append(['Id'],test_name)\n"
      ],
      "execution_count": 0,
      "outputs": []
    },
    {
      "cell_type": "code",
      "metadata": {
        "id": "87_x9Y0ET7wX",
        "colab_type": "code",
        "outputId": "d972891d-b98a-426f-a016-1a405601a4bb",
        "colab": {
          "base_uri": "https://localhost:8080/",
          "height": 386
        }
      },
      "source": [
        "#df = pd.DataFrame(result_,columns=['id','Category'])\n",
        "df = pd.DataFrame(result_,result_id,columns=[' '])\n",
        "df.to_csv('results_.csv',index=True, header=False)\n",
        "df"
      ],
      "execution_count": 40,
      "outputs": [
        {
          "output_type": "execute_result",
          "data": {
            "text/html": [
              "<div>\n",
              "<style scoped>\n",
              "    .dataframe tbody tr th:only-of-type {\n",
              "        vertical-align: middle;\n",
              "    }\n",
              "\n",
              "    .dataframe tbody tr th {\n",
              "        vertical-align: top;\n",
              "    }\n",
              "\n",
              "    .dataframe thead th {\n",
              "        text-align: right;\n",
              "    }\n",
              "</style>\n",
              "<table border=\"1\" class=\"dataframe\">\n",
              "  <thead>\n",
              "    <tr style=\"text-align: right;\">\n",
              "      <th></th>\n",
              "      <th></th>\n",
              "    </tr>\n",
              "  </thead>\n",
              "  <tbody>\n",
              "    <tr>\n",
              "      <th>Id</th>\n",
              "      <td>Category</td>\n",
              "    </tr>\n",
              "    <tr>\n",
              "      <th>image_0001.jpg</th>\n",
              "      <td>38</td>\n",
              "    </tr>\n",
              "    <tr>\n",
              "      <th>image_0002.jpg</th>\n",
              "      <td>89</td>\n",
              "    </tr>\n",
              "    <tr>\n",
              "      <th>image_0003.jpg</th>\n",
              "      <td>92</td>\n",
              "    </tr>\n",
              "    <tr>\n",
              "      <th>image_0004.jpg</th>\n",
              "      <td>51</td>\n",
              "    </tr>\n",
              "    <tr>\n",
              "      <th>...</th>\n",
              "      <td>...</td>\n",
              "    </tr>\n",
              "    <tr>\n",
              "      <th>image_1688.jpg</th>\n",
              "      <td>27</td>\n",
              "    </tr>\n",
              "    <tr>\n",
              "      <th>image_1689.jpg</th>\n",
              "      <td>61</td>\n",
              "    </tr>\n",
              "    <tr>\n",
              "      <th>image_1690.jpg</th>\n",
              "      <td>29</td>\n",
              "    </tr>\n",
              "    <tr>\n",
              "      <th>image_1691.jpg</th>\n",
              "      <td>45</td>\n",
              "    </tr>\n",
              "    <tr>\n",
              "      <th>image_1692.jpg</th>\n",
              "      <td>21</td>\n",
              "    </tr>\n",
              "  </tbody>\n",
              "</table>\n",
              "<p>1693 rows × 1 columns</p>\n",
              "</div>"
            ],
            "text/plain": [
              "                        \n",
              "Id              Category\n",
              "image_0001.jpg        38\n",
              "image_0002.jpg        89\n",
              "image_0003.jpg        92\n",
              "image_0004.jpg        51\n",
              "...                  ...\n",
              "image_1688.jpg        27\n",
              "image_1689.jpg        61\n",
              "image_1690.jpg        29\n",
              "image_1691.jpg        45\n",
              "image_1692.jpg        21\n",
              "\n",
              "[1693 rows x 1 columns]"
            ]
          },
          "metadata": {
            "tags": []
          },
          "execution_count": 40
        }
      ]
    },
    {
      "cell_type": "code",
      "metadata": {
        "id": "FjLgBPEUA6j7",
        "colab_type": "code",
        "colab": {}
      },
      "source": [
        "#! kaggle competitions submit -c 2019-ml-finalproject -f results_.csv -m \"sanhee-1203\""
      ],
      "execution_count": 0,
      "outputs": []
    }
  ]
}
